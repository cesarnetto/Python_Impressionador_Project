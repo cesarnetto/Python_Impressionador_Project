{
 "cells": [
  {
   "cell_type": "markdown",
   "id": "7018658d",
   "metadata": {},
   "source": [
    "### Importando módulos e arquivos"
   ]
  },
  {
   "cell_type": "markdown",
   "id": "edf67b8a",
   "metadata": {},
   "source": [
    "### 1 - Folha Salarial"
   ]
  },
  {
   "cell_type": "code",
   "execution_count": null,
   "id": "e69cab64",
   "metadata": {},
   "outputs": [],
   "source": [
    "import pandas as pd\n",
    "\n",
    "funcionarios_df = pd.read_csv('CadastroFuncionarios.csv', sep=';', decimal=',')\n",
    "clientes_df = pd.read_csv('CadastroClientes.csv', sep=';', decimal=',')\n",
    "servicos_df = pd.read_excel('BaseServiçosPrestados.xlsx')\n",
    "\n",
    "funcionarios_df = funcionarios_df.drop(['Estado Civil', 'Cargo'], axis=1)\n",
    "display(funcionarios_df)\n",
    "display(clientes_df)\n",
    "display(servicos_df)"
   ]
  },
  {
   "cell_type": "markdown",
   "id": "e2e0e7f8",
   "metadata": {},
   "source": [
    "### 2 - Faturamento da Empresa\n"
   ]
  },
  {
   "cell_type": "code",
   "execution_count": null,
   "id": "5fcb6e76",
   "metadata": {},
   "outputs": [],
   "source": [
    "faturamento_df = servicos_df[['ID Cliente', 'Tempo Total de Contrato (Meses)']].merge(clientes_df[['ID Cliente', 'Valor Contrato Mensal']])\n",
    "#display(faturamento_df)\n",
    "print('Faturamento foi de R${:,}'.format(sum(faturamento_df['Tempo Total de Contrato (Meses)'] * faturamento_df['Valor Contrato Mensal'])))"
   ]
  },
  {
   "cell_type": "markdown",
   "id": "15ed6508",
   "metadata": {},
   "source": [
    "### 3 - Percentual de Funcionários que fechou contrato\n"
   ]
  },
  {
   "cell_type": "code",
   "execution_count": null,
   "id": "dd794834",
   "metadata": {},
   "outputs": [],
   "source": [
    "qtde_funcionarios_fecharam = len(servicos_df['ID Funcionário'].unique())\n",
    "qtde_funcionarios_totais = len(funcionarios_df['ID Funcionário'])\n",
    "print('Percentual foi de {:.2%}'.format(qtde_funcionarios_fecharam / qtde_funcionarios_totais))"
   ]
  },
  {
   "cell_type": "markdown",
   "id": "1e319726",
   "metadata": {},
   "source": [
    "### 4 - Total de Contratos por Área\n"
   ]
  },
  {
   "cell_type": "code",
   "execution_count": null,
   "id": "c2f1d2e4",
   "metadata": {},
   "outputs": [],
   "source": [
    "contratos_area_df = servicos_df[['ID Funcionário']].merge(funcionarios_df[['ID Funcionário', 'Area']])\n",
    "#display(contratos_area_df)\n",
    "qtde_contratos_area = contratos_area_df['Area'].value_counts()\n",
    "print(qtde_contratos_area)\n",
    "qtde_contratos_area.plot(kind='bar')"
   ]
  },
  {
   "cell_type": "markdown",
   "id": "427e2978",
   "metadata": {},
   "source": [
    "### 5 - Total de Funcionários por Área\n"
   ]
  },
  {
   "cell_type": "code",
   "execution_count": null,
   "id": "16f9e911",
   "metadata": {},
   "outputs": [],
   "source": [
    "qtde_funcionarios_area = funcionarios_df['Area'].value_counts()\n",
    "print(qtde_funcionarios_area)\n",
    "qtde_funcionarios_area.plot(kind='bar')"
   ]
  },
  {
   "cell_type": "markdown",
   "id": "c5e03a58",
   "metadata": {},
   "source": [
    "### 6 - Ticket Médio Mensal"
   ]
  },
  {
   "cell_type": "code",
   "execution_count": null,
   "id": "be7f00dd",
   "metadata": {},
   "outputs": [],
   "source": [
    "ticket_medio = clientes_df['Valor Contrato Mensal'].mean()\n",
    "print('O ticket médio mensal é de R${:,.2f}'.format(ticket_medio))"
   ]
  }
 ],
 "metadata": {
  "kernelspec": {
   "display_name": "Python 3 (ipykernel)",
   "language": "python",
   "name": "python3"
  },
  "language_info": {
   "codemirror_mode": {
    "name": "ipython",
    "version": 3
   },
   "file_extension": ".py",
   "mimetype": "text/x-python",
   "name": "python",
   "nbconvert_exporter": "python",
   "pygments_lexer": "ipython3",
   "version": "3.9.7"
  }
 },
 "nbformat": 4,
 "nbformat_minor": 5
}
