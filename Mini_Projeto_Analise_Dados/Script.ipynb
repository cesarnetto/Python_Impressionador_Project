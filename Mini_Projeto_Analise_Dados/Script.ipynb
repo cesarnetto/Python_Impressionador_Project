{
 "cells": [
  {
   "cell_type": "markdown",
   "id": "3b400b79",
   "metadata": {},
   "source": [
    "# Mini Projeto de Análise de Dados\n",
    "\n",
    "### Dados:\n",
    "\n",
    "Dados de 2019 de uma empresa de prestação de serviços. \n",
    "\n",
    "- CadastroFuncionarios\n",
    "- CadastroClientes\n",
    "- BaseServiçosPrestados\n",
    "\n",
    "### Desafios do projeto:\n",
    "\n",
    "1. Calcular o Total da Folha Salarial;\n",
    "2. Calcular o faturamento da empresa;\n",
    "3. Calcular a % de funcionários que já fechou algum contrato;\n",
    "4. Calcular o total de contratos que cada área da empresa já fechou;\n",
    "5. Calcular o total de funcionários por área e\n",
    "6. Calcular o ticket médio mensal (faturamento médio mensal) dos contratos."
   ]
  },
  {
   "cell_type": "markdown",
   "id": "7018658d",
   "metadata": {},
   "source": [
    "### Importando módulos e arquivos"
   ]
  },
  {
   "cell_type": "markdown",
   "id": "edf67b8a",
   "metadata": {},
   "source": [
    "### 1 - Folha Salarial"
   ]
  },
  {
   "cell_type": "code",
   "execution_count": null,
   "id": "e69cab64",
   "metadata": {},
   "outputs": [],
   "source": []
  },
  {
   "cell_type": "markdown",
   "id": "e2e0e7f8",
   "metadata": {},
   "source": [
    "### 2 - Faturamento da Empresa\n"
   ]
  },
  {
   "cell_type": "code",
   "execution_count": null,
   "id": "5fcb6e76",
   "metadata": {},
   "outputs": [],
   "source": []
  },
  {
   "cell_type": "markdown",
   "id": "15ed6508",
   "metadata": {},
   "source": [
    "### 3 - Percentual de Funcionários que fechou contrato\n"
   ]
  },
  {
   "cell_type": "code",
   "execution_count": null,
   "id": "dd794834",
   "metadata": {},
   "outputs": [],
   "source": []
  },
  {
   "cell_type": "markdown",
   "id": "1e319726",
   "metadata": {},
   "source": [
    "### 4 - Total de Contratos por Área\n"
   ]
  },
  {
   "cell_type": "code",
   "execution_count": null,
   "id": "c2f1d2e4",
   "metadata": {},
   "outputs": [],
   "source": []
  },
  {
   "cell_type": "markdown",
   "id": "427e2978",
   "metadata": {},
   "source": [
    "### 5 - Total de Funcionários por Área\n"
   ]
  },
  {
   "cell_type": "code",
   "execution_count": null,
   "id": "16f9e911",
   "metadata": {},
   "outputs": [],
   "source": []
  },
  {
   "cell_type": "markdown",
   "id": "c5e03a58",
   "metadata": {},
   "source": [
    "### 6 - Ticket Médio Mensal"
   ]
  },
  {
   "cell_type": "code",
   "execution_count": null,
   "id": "be7f00dd",
   "metadata": {},
   "outputs": [],
   "source": []
  }
 ],
 "metadata": {
  "kernelspec": {
   "display_name": "Python 3 (ipykernel)",
   "language": "python",
   "name": "python3"
  },
  "language_info": {
   "codemirror_mode": {
    "name": "ipython",
    "version": 3
   },
   "file_extension": ".py",
   "mimetype": "text/x-python",
   "name": "python",
   "nbconvert_exporter": "python",
   "pygments_lexer": "ipython3",
   "version": "3.9.7"
  }
 },
 "nbformat": 4,
 "nbformat_minor": 5
}
