{
 "cells": [
  {
   "cell_type": "code",
   "execution_count": 1,
   "metadata": {},
   "outputs": [
    {
     "name": "stdout",
     "output_type": "stream",
     "text": [
      "Contagem de palavras: 2\n",
      "Frequência de palavras: Counter({'Olá': 1, 'mundo': 1})\n",
      "Frequência de letras: Counter({'o': 2, 'l': 1, 'á': 1, ' ': 1, 'm': 1, 'u': 1, 'n': 1, 'd': 1})\n"
     ]
    }
   ],
   "source": [
    "import string\n",
    "from collections import Counter\n",
    "\n",
    "\n",
    "def analisar_texto(texto):\n",
    "    \"\"\"\n",
    "    Analisa o texto fornecido e calcula a contagem de palavras, a frequência de palavras\n",
    "    e a frequência de letras.\n",
    "\n",
    "    Parameters\n",
    "    ----------\n",
    "    texto : str\n",
    "        Texto a ser analisado\n",
    "\n",
    "    Returns\n",
    "    -------\n",
    "    tuple\n",
    "        Contagem de palavras, frequência de palavras e frequência de letras\n",
    "    \"\"\"\n",
    "\n",
    "    # Remove a pontuação do texto\n",
    "    tratamento = str.maketrans('', '', string.punctuation)\n",
    "    texto_tratado = texto.translate(tratamento)\n",
    "\n",
    "    palavras = texto_tratado.split()\n",
    "    contagem_palavras = len(palavras)\n",
    "    frequencia_palavras = Counter(palavras)\n",
    "\n",
    "    # Converte o texto para minúsculas e conta a frequência das letras\n",
    "    frequencia_letras = Counter(texto_tratado.lower())\n",
    "\n",
    "    return contagem_palavras, frequencia_palavras, frequencia_letras\n",
    "\n",
    "\n",
    "texto = input(\"Informe o texto: \")\n",
    "contagem_palavras, frequencia_palavras, frequencia_letras = analisar_texto(texto)\n",
    "print(f\"Contagem de palavras: {contagem_palavras}\")\n",
    "print(f\"Frequência de palavras: {frequencia_palavras}\")\n",
    "print(f\"Frequência de letras: {frequencia_letras}\")\n"
   ]
  }
 ],
 "metadata": {
  "kernelspec": {
   "display_name": "Python 3",
   "language": "python",
   "name": "python3"
  },
  "language_info": {
   "codemirror_mode": {
    "name": "ipython",
    "version": 3
   },
   "file_extension": ".py",
   "mimetype": "text/x-python",
   "name": "python",
   "nbconvert_exporter": "python",
   "pygments_lexer": "ipython3",
   "version": "3.11.2"
  },
  "orig_nbformat": 4
 },
 "nbformat": 4,
 "nbformat_minor": 2
}
