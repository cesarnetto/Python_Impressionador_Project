{
 "cells": [
  {
   "cell_type": "code",
   "execution_count": null,
   "metadata": {},
   "outputs": [],
   "source": [
    "import string\n",
    "import random\n",
    "\n",
    "\n",
    "def gerar_senha(tamanho):\n",
    "    if tamanho < 4:\n",
    "        print(\"O tamanho da senha deve ser de pelo menos 4\")\n",
    "    \n",
    "    else: \n",
    "        senha = [\n",
    "            random.choice(string.ascii_letters),\n",
    "            random.choice(string.digits),\n",
    "            random.choice(string.punctuation)\n",
    "        ]\n",
    " \n",
    "        possibilidades = ''.join([string.ascii_letters, string.digits, string.punctuation])\n",
    "        senha.extend(random.choices(possibilidades, k=tamanho-3))\n",
    "\n",
    "        random.shuffle(senha)\n",
    "        return ''.join(senha)\n",
    "\n",
    "\n",
    "tamanho = int(input(\"Digite o comprimento da senha: \"))\n",
    "print(gerar_senha(tamanho))"
   ]
  }
 ],
 "metadata": {
  "language_info": {
   "name": "python"
  },
  "orig_nbformat": 4
 },
 "nbformat": 4,
 "nbformat_minor": 2
}
