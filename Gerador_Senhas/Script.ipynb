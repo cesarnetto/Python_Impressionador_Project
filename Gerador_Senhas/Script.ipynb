{
 "cells": [
  {
   "cell_type": "code",
   "execution_count": 16,
   "metadata": {},
   "outputs": [
    {
     "name": "stdout",
     "output_type": "stream",
     "text": [
      "7tGH\n"
     ]
    }
   ],
   "source": [
    "import string\n",
    "import random\n",
    "\n",
    "\n",
    "def gerar_senha(tamanho):\n",
    "    if tamanho < 4:\n",
    "        print(\"O tamanho da senha deve ser de pelo menos 4\")\n",
    "    \n",
    "    else: \n",
    "        senha = [\n",
    "            random.choice(string.ascii_letters),\n",
    "            random.choice(string.digits),\n",
    "            random.choice(string.punctuation)\n",
    "        ]\n",
    " \n",
    "        possibilidades = ''.join([string.ascii_letters, string.digits, string.punctuation])\n",
    "        senha.extend(random.choices(possibilidades, k=tamanho-3))\n",
    "\n",
    "        random.shuffle(senha)\n",
    "        return ''.join(senha)\n",
    "\n",
    "\n",
    "tamanho = int(input(\"Digite o comprimento da senha: \"))\n",
    "print(gerar_senha(tamanho))"
   ]
  }
 ],
 "metadata": {
  "kernelspec": {
   "display_name": "Python 3",
   "language": "python",
   "name": "python3"
  },
  "language_info": {
   "codemirror_mode": {
    "name": "ipython",
    "version": 3
   },
   "file_extension": ".py",
   "mimetype": "text/x-python",
   "name": "python",
   "nbconvert_exporter": "python",
   "pygments_lexer": "ipython3",
   "version": "3.11.2"
  },
  "orig_nbformat": 4
 },
 "nbformat": 4,
 "nbformat_minor": 2
}
