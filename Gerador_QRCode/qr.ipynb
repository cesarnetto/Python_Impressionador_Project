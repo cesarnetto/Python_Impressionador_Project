{
 "cells": [
  {
   "cell_type": "code",
   "execution_count": 1,
   "metadata": {},
   "outputs": [],
   "source": [
    "import qrcode \n",
    "from qrcode.image.styledpil import StyledPilImage\n",
    "\n",
    "qr = qrcode.QRCode(error_correction=qrcode.constants.ERROR_CORRECT_H)  # corrigir até 30% de erro, para poder adicionar uma imagem.\n",
    "qr.add_data(\"https://www.youtube.com/@HashtagProgramacao\")\n",
    "\n",
    "imagem = qr.make_image(\n",
    "    image_factory=StyledPilImage,\n",
    "    embeded_image_path=\"logo.png\",\n",
    ")\n",
    "\n",
    "imagem.save(\"qrcode_logo.png\")"
   ]
  }
 ],
 "metadata": {
  "kernelspec": {
   "display_name": "Python 3",
   "language": "python",
   "name": "python3"
  },
  "language_info": {
   "codemirror_mode": {
    "name": "ipython",
    "version": 3
   },
   "file_extension": ".py",
   "mimetype": "text/x-python",
   "name": "python",
   "nbconvert_exporter": "python",
   "pygments_lexer": "ipython3",
   "version": "3.11.2"
  },
  "orig_nbformat": 4
 },
 "nbformat": 4,
 "nbformat_minor": 2
}
